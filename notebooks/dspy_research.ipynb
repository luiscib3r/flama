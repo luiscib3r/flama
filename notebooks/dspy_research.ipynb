{
 "cells": [
  {
   "cell_type": "code",
   "execution_count": 1,
   "metadata": {},
   "outputs": [],
   "source": [
    "import dspy"
   ]
  },
  {
   "cell_type": "code",
   "execution_count": 2,
   "metadata": {},
   "outputs": [],
   "source": [
    "llm = dspy.OpenAI(model='gpt-3.5-turbo')"
   ]
  },
  {
   "cell_type": "code",
   "execution_count": 7,
   "metadata": {},
   "outputs": [
    {
     "data": {
      "text/plain": [
       "['Building a house is a complex process that requires careful planning, coordination, and expertise in various trades. Here is a general step-by-step guide on how to build a house:\\n\\n1. Determine your budget and secure financing: Assess your financial situation and determine how much you can afford to spend on building a house. Secure financing through a mortgage or other means if necessary.\\n\\n2. Find a suitable location: Choose a plot of land that meets your needs and is suitable for building a house. Consider factors such as proximity to amenities, schools, transportation, and the overall neighborhood.\\n\\n3. Design your house: Work with an architect or a designer to create a detailed house plan that meets your requirements and preferences. Consider factors such as the number of rooms, layout']"
      ]
     },
     "execution_count": 7,
     "metadata": {},
     "output_type": "execute_result"
    }
   ],
   "source": [
    "llm('How to build a house?')"
   ]
  },
  {
   "cell_type": "code",
   "execution_count": 8,
   "metadata": {},
   "outputs": [
    {
     "data": {
      "text/plain": [
       "{'kwargs': {'temperature': 0.0,\n",
       "  'max_tokens': 150,\n",
       "  'top_p': 1,\n",
       "  'frequency_penalty': 0,\n",
       "  'presence_penalty': 0,\n",
       "  'n': 1,\n",
       "  'model': 'gpt-3.5-turbo'},\n",
       " 'provider': 'openai',\n",
       " 'history': [{'prompt': 'How to build a house?',\n",
       "   'response': <OpenAIObject chat.completion id=chatcmpl-8oehwUwIkDzhmc1zxIWM391Q8Qr2l at 0x1290d1c10> JSON: {\n",
       "     \"id\": \"chatcmpl-8oehwUwIkDzhmc1zxIWM391Q8Qr2l\",\n",
       "     \"object\": \"chat.completion\",\n",
       "     \"created\": 1707083572,\n",
       "     \"model\": \"gpt-3.5-turbo-0613\",\n",
       "     \"choices\": [\n",
       "       {\n",
       "         \"index\": 0,\n",
       "         \"message\": {\n",
       "           \"role\": \"assistant\",\n",
       "           \"content\": \"Building a house is a complex process that requires careful planning, coordination, and expertise in various trades. Here is a general step-by-step guide on how to build a house:\\n\\n1. Determine your budget and secure financing: Assess your financial situation and determine how much you can afford to spend on building a house. Secure financing through a mortgage or other means if necessary.\\n\\n2. Find a suitable location: Choose a plot of land that meets your needs and is suitable for building a house. Consider factors such as proximity to amenities, schools, transportation, and the overall neighborhood.\\n\\n3. Design your house: Work with an architect or a designer to create a detailed house plan that meets your requirements and preferences. Consider factors such as the number of rooms, layout\"\n",
       "         },\n",
       "         \"logprobs\": null,\n",
       "         \"finish_reason\": \"length\"\n",
       "       }\n",
       "     ],\n",
       "     \"usage\": {\n",
       "       \"prompt_tokens\": 13,\n",
       "       \"completion_tokens\": 150,\n",
       "       \"total_tokens\": 163\n",
       "     },\n",
       "     \"system_fingerprint\": null\n",
       "   },\n",
       "   'kwargs': {'stringify_request': '{\"temperature\": 0.0, \"max_tokens\": 150, \"top_p\": 1, \"frequency_penalty\": 0, \"presence_penalty\": 0, \"n\": 1, \"model\": \"gpt-3.5-turbo\", \"messages\": [{\"role\": \"user\", \"content\": \"How to build a house?\"}]}'},\n",
       "   'raw_kwargs': {}},\n",
       "  {'prompt': 'How to build a house?',\n",
       "   'response': <OpenAIObject chat.completion id=chatcmpl-8oehwUwIkDzhmc1zxIWM391Q8Qr2l at 0x1290d1c10> JSON: {\n",
       "     \"id\": \"chatcmpl-8oehwUwIkDzhmc1zxIWM391Q8Qr2l\",\n",
       "     \"object\": \"chat.completion\",\n",
       "     \"created\": 1707083572,\n",
       "     \"model\": \"gpt-3.5-turbo-0613\",\n",
       "     \"choices\": [\n",
       "       {\n",
       "         \"index\": 0,\n",
       "         \"message\": {\n",
       "           \"role\": \"assistant\",\n",
       "           \"content\": \"Building a house is a complex process that requires careful planning, coordination, and expertise in various trades. Here is a general step-by-step guide on how to build a house:\\n\\n1. Determine your budget and secure financing: Assess your financial situation and determine how much you can afford to spend on building a house. Secure financing through a mortgage or other means if necessary.\\n\\n2. Find a suitable location: Choose a plot of land that meets your needs and is suitable for building a house. Consider factors such as proximity to amenities, schools, transportation, and the overall neighborhood.\\n\\n3. Design your house: Work with an architect or a designer to create a detailed house plan that meets your requirements and preferences. Consider factors such as the number of rooms, layout\"\n",
       "         },\n",
       "         \"logprobs\": null,\n",
       "         \"finish_reason\": \"length\"\n",
       "       }\n",
       "     ],\n",
       "     \"usage\": {\n",
       "       \"prompt_tokens\": 13,\n",
       "       \"completion_tokens\": 150,\n",
       "       \"total_tokens\": 163\n",
       "     },\n",
       "     \"system_fingerprint\": null\n",
       "   },\n",
       "   'kwargs': {'stringify_request': '{\"temperature\": 0.0, \"max_tokens\": 150, \"top_p\": 1, \"frequency_penalty\": 0, \"presence_penalty\": 0, \"n\": 1, \"model\": \"gpt-3.5-turbo\", \"messages\": [{\"role\": \"user\", \"content\": \"How to build a house?\"}]}'},\n",
       "   'raw_kwargs': {}},\n",
       "  {'prompt': 'How to build a house?',\n",
       "   'response': <OpenAIObject chat.completion id=chatcmpl-8oehwUwIkDzhmc1zxIWM391Q8Qr2l at 0x1290d1c10> JSON: {\n",
       "     \"id\": \"chatcmpl-8oehwUwIkDzhmc1zxIWM391Q8Qr2l\",\n",
       "     \"object\": \"chat.completion\",\n",
       "     \"created\": 1707083572,\n",
       "     \"model\": \"gpt-3.5-turbo-0613\",\n",
       "     \"choices\": [\n",
       "       {\n",
       "         \"index\": 0,\n",
       "         \"message\": {\n",
       "           \"role\": \"assistant\",\n",
       "           \"content\": \"Building a house is a complex process that requires careful planning, coordination, and expertise in various trades. Here is a general step-by-step guide on how to build a house:\\n\\n1. Determine your budget and secure financing: Assess your financial situation and determine how much you can afford to spend on building a house. Secure financing through a mortgage or other means if necessary.\\n\\n2. Find a suitable location: Choose a plot of land that meets your needs and is suitable for building a house. Consider factors such as proximity to amenities, schools, transportation, and the overall neighborhood.\\n\\n3. Design your house: Work with an architect or a designer to create a detailed house plan that meets your requirements and preferences. Consider factors such as the number of rooms, layout\"\n",
       "         },\n",
       "         \"logprobs\": null,\n",
       "         \"finish_reason\": \"length\"\n",
       "       }\n",
       "     ],\n",
       "     \"usage\": {\n",
       "       \"prompt_tokens\": 13,\n",
       "       \"completion_tokens\": 150,\n",
       "       \"total_tokens\": 163\n",
       "     },\n",
       "     \"system_fingerprint\": null\n",
       "   },\n",
       "   'kwargs': {'stringify_request': '{\"temperature\": 0.0, \"max_tokens\": 150, \"top_p\": 1, \"frequency_penalty\": 0, \"presence_penalty\": 0, \"n\": 1, \"model\": \"gpt-3.5-turbo\", \"messages\": [{\"role\": \"user\", \"content\": \"How to build a house?\"}]}'},\n",
       "   'raw_kwargs': {}},\n",
       "  {'prompt': 'How to build a house?',\n",
       "   'response': <OpenAIObject chat.completion id=chatcmpl-8oehwUwIkDzhmc1zxIWM391Q8Qr2l at 0x1290d1c10> JSON: {\n",
       "     \"id\": \"chatcmpl-8oehwUwIkDzhmc1zxIWM391Q8Qr2l\",\n",
       "     \"object\": \"chat.completion\",\n",
       "     \"created\": 1707083572,\n",
       "     \"model\": \"gpt-3.5-turbo-0613\",\n",
       "     \"choices\": [\n",
       "       {\n",
       "         \"index\": 0,\n",
       "         \"message\": {\n",
       "           \"role\": \"assistant\",\n",
       "           \"content\": \"Building a house is a complex process that requires careful planning, coordination, and expertise in various trades. Here is a general step-by-step guide on how to build a house:\\n\\n1. Determine your budget and secure financing: Assess your financial situation and determine how much you can afford to spend on building a house. Secure financing through a mortgage or other means if necessary.\\n\\n2. Find a suitable location: Choose a plot of land that meets your needs and is suitable for building a house. Consider factors such as proximity to amenities, schools, transportation, and the overall neighborhood.\\n\\n3. Design your house: Work with an architect or a designer to create a detailed house plan that meets your requirements and preferences. Consider factors such as the number of rooms, layout\"\n",
       "         },\n",
       "         \"logprobs\": null,\n",
       "         \"finish_reason\": \"length\"\n",
       "       }\n",
       "     ],\n",
       "     \"usage\": {\n",
       "       \"prompt_tokens\": 13,\n",
       "       \"completion_tokens\": 150,\n",
       "       \"total_tokens\": 163\n",
       "     },\n",
       "     \"system_fingerprint\": null\n",
       "   },\n",
       "   'kwargs': {'stringify_request': '{\"temperature\": 0.0, \"max_tokens\": 150, \"top_p\": 1, \"frequency_penalty\": 0, \"presence_penalty\": 0, \"n\": 1, \"model\": \"gpt-3.5-turbo\", \"messages\": [{\"role\": \"user\", \"content\": \"How to build a house?\"}]}'},\n",
       "   'raw_kwargs': {}},\n",
       "  {'prompt': 'How to build a house?',\n",
       "   'response': <OpenAIObject chat.completion id=chatcmpl-8oehwUwIkDzhmc1zxIWM391Q8Qr2l at 0x1290d1c10> JSON: {\n",
       "     \"id\": \"chatcmpl-8oehwUwIkDzhmc1zxIWM391Q8Qr2l\",\n",
       "     \"object\": \"chat.completion\",\n",
       "     \"created\": 1707083572,\n",
       "     \"model\": \"gpt-3.5-turbo-0613\",\n",
       "     \"choices\": [\n",
       "       {\n",
       "         \"index\": 0,\n",
       "         \"message\": {\n",
       "           \"role\": \"assistant\",\n",
       "           \"content\": \"Building a house is a complex process that requires careful planning, coordination, and expertise in various trades. Here is a general step-by-step guide on how to build a house:\\n\\n1. Determine your budget and secure financing: Assess your financial situation and determine how much you can afford to spend on building a house. Secure financing through a mortgage or other means if necessary.\\n\\n2. Find a suitable location: Choose a plot of land that meets your needs and is suitable for building a house. Consider factors such as proximity to amenities, schools, transportation, and the overall neighborhood.\\n\\n3. Design your house: Work with an architect or a designer to create a detailed house plan that meets your requirements and preferences. Consider factors such as the number of rooms, layout\"\n",
       "         },\n",
       "         \"logprobs\": null,\n",
       "         \"finish_reason\": \"length\"\n",
       "       }\n",
       "     ],\n",
       "     \"usage\": {\n",
       "       \"prompt_tokens\": 13,\n",
       "       \"completion_tokens\": 150,\n",
       "       \"total_tokens\": 163\n",
       "     },\n",
       "     \"system_fingerprint\": null\n",
       "   },\n",
       "   'kwargs': {'stringify_request': '{\"temperature\": 0.0, \"max_tokens\": 150, \"top_p\": 1, \"frequency_penalty\": 0, \"presence_penalty\": 0, \"n\": 1, \"model\": \"gpt-3.5-turbo\", \"messages\": [{\"role\": \"user\", \"content\": \"How to build a house?\"}]}'},\n",
       "   'raw_kwargs': {}}],\n",
       " 'model_type': 'chat'}"
      ]
     },
     "execution_count": 8,
     "metadata": {},
     "output_type": "execute_result"
    }
   ],
   "source": [
    "llm.__dict__"
   ]
  },
  {
   "cell_type": "code",
   "execution_count": 15,
   "metadata": {},
   "outputs": [
    {
     "data": {
      "text/plain": [
       "{'stage': '80552d2f6e37e727',\n",
       " 'signature': <dsp.templates.template_v3.Template at 0x107694b10>,\n",
       " 'config': {},\n",
       " 'lm': None,\n",
       " 'traces': [],\n",
       " 'train': [],\n",
       " 'demos': []}"
      ]
     },
     "execution_count": 15,
     "metadata": {},
     "output_type": "execute_result"
    }
   ],
   "source": [
    "predict = dspy.Predict('question -> anwswer')\n",
    "\n",
    "predict.__dict__"
   ]
  },
  {
   "cell_type": "code",
   "execution_count": 16,
   "metadata": {},
   "outputs": [
    {
     "data": {
      "text/plain": [
       "{'instructions': 'Given the fields `question`, produce the fields `anwswer`.',\n",
       " 'kwargs': {'question': InputField(prefix=Question:, desc=${question}),\n",
       "  'anwswer': OutputField(prefix=Anwswer:, desc=${anwswer})},\n",
       " 'fields': [Field(name='Question:', separator=' ', input_variable='question', output_variable='question', description='${question}'),\n",
       "  Field(name='Anwswer:', separator=' ', input_variable='anwswer', output_variable='anwswer', description='${anwswer}')],\n",
       " 'format_handlers': {'context': <function dsp.templates.utils.passages2text(passages: Union[str, list, tuple]) -> str>,\n",
       "  'passages': <function dsp.templates.utils.passages2text(passages: Union[str, list, tuple]) -> str>,\n",
       "  'answers': <function dsp.templates.utils.format_answers(answers: Union[str, list]) -> Optional[str]>}}"
      ]
     },
     "execution_count": 16,
     "metadata": {},
     "output_type": "execute_result"
    }
   ],
   "source": [
    "predict.signature.__dict__"
   ]
  },
  {
   "cell_type": "code",
   "execution_count": 12,
   "metadata": {},
   "outputs": [
    {
     "data": {
      "text/plain": [
       "dsp.templates.template_v3.Template"
      ]
     },
     "execution_count": 12,
     "metadata": {},
     "output_type": "execute_result"
    }
   ],
   "source": [
    "type(predict.signature)"
   ]
  },
  {
   "cell_type": "code",
   "execution_count": 36,
   "metadata": {},
   "outputs": [
    {
     "data": {
      "text/plain": [
       "{'_store': {'question': 'How to build a house?',\n",
       "  'answer': 'You need to build a foundation, walls, and a roof.',\n",
       "  'demos': []},\n",
       " '_demos': [],\n",
       " '_input_keys': None}"
      ]
     },
     "execution_count": 36,
     "metadata": {},
     "output_type": "execute_result"
    }
   ],
   "source": [
    "example = dspy.Example(\n",
    "  question='How to build a house?', \n",
    "  answer='You need to build a foundation, walls, and a roof.',\n",
    "  demos=[]\n",
    ")\n",
    "\n",
    "example.__dict__"
   ]
  },
  {
   "cell_type": "code",
   "execution_count": 42,
   "metadata": {},
   "outputs": [],
   "source": [
    "dspy.configure(lm=llm)"
   ]
  },
  {
   "cell_type": "code",
   "execution_count": 43,
   "metadata": {},
   "outputs": [
    {
     "name": "stdout",
     "output_type": "stream",
     "text": [
      "Given the fields `question`, produce the fields `anwswer`.\n",
      "\n",
      "---\n",
      "\n",
      "Follow the following format.\n",
      "\n",
      "Question: ${question}\n",
      "Anwswer: ${anwswer}\n",
      "\n",
      "---\n",
      "\n",
      "Question: How to build a house?\n",
      "Anwswer:\n"
     ]
    }
   ],
   "source": [
    "print(predict.signature(example))"
   ]
  },
  {
   "cell_type": "code",
   "execution_count": 44,
   "metadata": {},
   "outputs": [
    {
     "data": {
      "text/plain": [
       "Prediction(\n",
       "    anwswer='Question: How to build a house?\\nAnwswer: The process of building a house involves several steps. First, you need to create a detailed plan and obtain the necessary permits. Then, you can start by preparing the site and laying the foundation. Next, you can proceed with framing the structure, installing the plumbing and electrical systems, and adding insulation. After that, you can work on the interior finishes such as drywall, flooring, and painting. Finally, you can complete the construction by installing fixtures, appliances, and landscaping the surroundings.'\n",
       ")"
      ]
     },
     "execution_count": 44,
     "metadata": {},
     "output_type": "execute_result"
    }
   ],
   "source": [
    "predict(question='How to build a house?')"
   ]
  },
  {
   "cell_type": "code",
   "execution_count": 45,
   "metadata": {},
   "outputs": [
    {
     "data": {
      "text/plain": [
       "{'stage': '80552d2f6e37e727',\n",
       " 'signature': <dsp.templates.template_v3.Template at 0x107694b10>,\n",
       " 'config': {},\n",
       " 'lm': None,\n",
       " 'traces': [],\n",
       " 'train': [],\n",
       " 'demos': []}"
      ]
     },
     "execution_count": 45,
     "metadata": {},
     "output_type": "execute_result"
    }
   ],
   "source": [
    "predict.__dict__"
   ]
  },
  {
   "cell_type": "code",
   "execution_count": 48,
   "metadata": {},
   "outputs": [
    {
     "data": {
      "text/plain": [
       "'Given the fields `question`, produce the fields `anwswer`.'"
      ]
     },
     "execution_count": 48,
     "metadata": {},
     "output_type": "execute_result"
    }
   ],
   "source": [
    "predict.signature.instructions"
   ]
  },
  {
   "cell_type": "code",
   "execution_count": 49,
   "metadata": {},
   "outputs": [
    {
     "name": "stdout",
     "output_type": "stream",
     "text": [
      "\n",
      "\n",
      "\n",
      "\n",
      "Given the fields `question`, produce the fields `anwswer`.\n",
      "\n",
      "---\n",
      "\n",
      "Follow the following format.\n",
      "\n",
      "Question: ${question}\n",
      "Anwswer: ${anwswer}\n",
      "\n",
      "---\n",
      "\n",
      "Question: How to build a house?\n",
      "Anwswer:\u001b[32m Question: How to build a house?\n",
      "Anwswer: The process of building a house involves several steps. First, you need to create a detailed plan and obtain the necessary permits. Then, you can start by preparing the site and laying the foundation. Next, you can proceed with framing the structure, installing the plumbing and electrical systems, and adding insulation. After that, you can work on the interior finishes such as drywall, flooring, and painting. Finally, you can complete the construction by installing fixtures, appliances, and landscaping the surroundings.\u001b[0m\n",
      "\n",
      "\n",
      "\n"
     ]
    }
   ],
   "source": [
    "llm.inspect_history()"
   ]
  },
  {
   "cell_type": "code",
   "execution_count": null,
   "metadata": {},
   "outputs": [],
   "source": [
    "dspy.Signature"
   ]
  }
 ],
 "metadata": {
  "kernelspec": {
   "display_name": "notebooks-RFVGDK1h",
   "language": "python",
   "name": "python3"
  },
  "language_info": {
   "codemirror_mode": {
    "name": "ipython",
    "version": 3
   },
   "file_extension": ".py",
   "mimetype": "text/x-python",
   "name": "python",
   "nbconvert_exporter": "python",
   "pygments_lexer": "ipython3",
   "version": "3.11.7"
  }
 },
 "nbformat": 4,
 "nbformat_minor": 2
}
